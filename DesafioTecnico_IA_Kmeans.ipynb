{
 "cells": [
  {
   "cell_type": "code",
   "execution_count": 181,
   "metadata": {},
   "outputs": [],
   "source": [
    "import pandas as pd\n",
    "import numpy as np\n",
    "import seaborn as sns\n",
    "import matplotlib.pyplot as plt\n",
    "import time\n",
    "\n",
    "%matplotlib inline"
   ]
  },
  {
   "cell_type": "code",
   "execution_count": 182,
   "metadata": {},
   "outputs": [],
   "source": [
    "df_transactions = pd.read_csv('Retail_Data_Transactions.csv')\n",
    "df_response = pd.read_csv('Retail_Data_Response.csv')"
   ]
  },
  {
   "cell_type": "code",
   "execution_count": null,
   "metadata": {},
   "outputs": [],
   "source": [
    "df_transactions.info()"
   ]
  },
  {
   "cell_type": "code",
   "execution_count": 183,
   "metadata": {},
   "outputs": [],
   "source": [
    "df_transactions['DateTrans'] = pd.to_datetime(df_transactions['trans_date'])"
   ]
  },
  {
   "cell_type": "code",
   "execution_count": 184,
   "metadata": {},
   "outputs": [
    {
     "data": {
      "text/plain": [
       "<AxesSubplot:>"
      ]
     },
     "execution_count": 184,
     "metadata": {},
     "output_type": "execute_result"
    },
    {
     "data": {
      "image/png": "[encoded data removed]",
      "text/plain": [
       "<Figure size 432x288 with 1 Axes>"
      ]
     },
     "metadata": {
      "needs_background": "light"
     },
     "output_type": "display_data"
    }
   ],
   "source": [
    "sns.heatmap(df_transactions.isnull(),yticklabels=False,cbar=False,cmap='viridis')"
   ]
  },
  {
   "cell_type": "markdown",
   "metadata": {},
   "source": [
    "No missing data on Dataframe"
   ]
  },
  {
   "cell_type": "markdown",
   "metadata": {},
   "source": [
    "### Customer Information\n"
   ]
  },
  {
   "cell_type": "code",
   "execution_count": 185,
   "metadata": {},
   "outputs": [],
   "source": [
    "Customers = df_transactions.groupby(['customer_id']).sum()\n",
    "Mean = df_transactions.groupby(['customer_id']).mean()"
   ]
  },
  {
   "cell_type": "code",
   "execution_count": 186,
   "metadata": {},
   "outputs": [
    {
     "name": "stderr",
     "output_type": "stream",
     "text": [
      "/home/marcos/anaconda3/lib/python3.8/site-packages/seaborn/distributions.py:2551: FutureWarning: `distplot` is a deprecated function and will be removed in a future version. Please adapt your code to use either `displot` (a figure-level function with similar flexibility) or `histplot` (an axes-level function for histograms).\n",
      "  warnings.warn(msg, FutureWarning)\n"
     ]
    },
    {
     "data": {
      "text/plain": [
       "<AxesSubplot:ylabel='Density'>"
      ]
     },
     "execution_count": 186,
     "metadata": {},
     "output_type": "execute_result"
    },
    {
     "data": {
      "image/png": "[encoded data removed]",
      "text/plain": [
       "<Figure size 432x288 with 1 Axes>"
      ]
     },
     "metadata": {
      "needs_background": "light"
     },
     "output_type": "display_data"
    }
   ],
   "source": [
    "sns.distplot(Mean)"
   ]
  },
  {
   "cell_type": "code",
   "execution_count": 187,
   "metadata": {},
   "outputs": [],
   "source": [
    "LastPurchaseData = max(df_transactions['DateTrans'])"
   ]
  },
  {
   "cell_type": "code",
   "execution_count": 188,
   "metadata": {},
   "outputs": [
    {
     "data": {
      "text/html": [
       "<div>\n",
       "<style scoped>\n",
       "    .dataframe tbody tr th:only-of-type {\n",
       "        vertical-align: middle;\n",
       "    }\n",
       "\n",
       "    .dataframe tbody tr th {\n",
       "        vertical-align: top;\n",
       "    }\n",
       "\n",
       "    .dataframe thead th {\n",
       "        text-align: right;\n",
       "    }\n",
       "</style>\n",
       "<table border=\"1\" class=\"dataframe\">\n",
       "  <thead>\n",
       "    <tr style=\"text-align: right;\">\n",
       "      <th></th>\n",
       "      <th>tran_amount</th>\n",
       "      <th>Mean</th>\n",
       "      <th>DSLastPurchaseDate</th>\n",
       "      <th>NumberOfTransactions</th>\n",
       "    </tr>\n",
       "    <tr>\n",
       "      <th>customer_id</th>\n",
       "      <th></th>\n",
       "      <th></th>\n",
       "      <th></th>\n",
       "      <th></th>\n",
       "    </tr>\n",
       "  </thead>\n",
       "  <tbody>\n",
       "    <tr>\n",
       "      <th>CS1112</th>\n",
       "      <td>1012</td>\n",
       "      <td>67.466667</td>\n",
       "      <td>61.0</td>\n",
       "      <td>15</td>\n",
       "    </tr>\n",
       "    <tr>\n",
       "      <th>CS1113</th>\n",
       "      <td>1490</td>\n",
       "      <td>74.500000</td>\n",
       "      <td>35.0</td>\n",
       "      <td>20</td>\n",
       "    </tr>\n",
       "    <tr>\n",
       "      <th>CS1114</th>\n",
       "      <td>1432</td>\n",
       "      <td>75.368421</td>\n",
       "      <td>32.0</td>\n",
       "      <td>19</td>\n",
       "    </tr>\n",
       "    <tr>\n",
       "      <th>CS1115</th>\n",
       "      <td>1659</td>\n",
       "      <td>75.409091</td>\n",
       "      <td>11.0</td>\n",
       "      <td>22</td>\n",
       "    </tr>\n",
       "    <tr>\n",
       "      <th>CS1116</th>\n",
       "      <td>857</td>\n",
       "      <td>65.923077</td>\n",
       "      <td>203.0</td>\n",
       "      <td>13</td>\n",
       "    </tr>\n",
       "  </tbody>\n",
       "</table>\n",
       "</div>"
      ],
      "text/plain": [
       "             tran_amount       Mean  DSLastPurchaseDate  NumberOfTransactions\n",
       "customer_id                                                                  \n",
       "CS1112              1012  67.466667                61.0                    15\n",
       "CS1113              1490  74.500000                35.0                    20\n",
       "CS1114              1432  75.368421                32.0                    19\n",
       "CS1115              1659  75.409091                11.0                    22\n",
       "CS1116               857  65.923077               203.0                    13"
      ]
     },
     "execution_count": 188,
     "metadata": {},
     "output_type": "execute_result"
    }
   ],
   "source": [
    "Customers['Mean'] = Mean\n",
    "CustomerLastPurchase = df_transactions[['DateTrans', 'customer_id']]\n",
    "CustomerLastPurchase = CustomerLastPurchase.groupby(['customer_id']).max()\n",
    "Customers['DSLastPurchaseDate'] = LastPurchaseData - CustomerLastPurchase\n",
    "Customers['DSLastPurchaseDate'] = pd.DataFrame(Customers['DSLastPurchaseDate'].astype('timedelta64[D]'))\n",
    "Transactions = df_transactions[['DateTrans', 'customer_id']]\n",
    "Customers['NumberOfTransactions']= Transactions.groupby(['customer_id']).count()\n",
    "\n",
    "Customers.head()"
   ]
  },
  {
   "cell_type": "code",
   "execution_count": null,
   "metadata": {},
   "outputs": [],
   "source": [
    "sns.displot(Customers['tran_amount'],bins=30)"
   ]
  },
  {
   "cell_type": "code",
   "execution_count": null,
   "metadata": {},
   "outputs": [],
   "source": [
    "sns.displot(Customers['NumberOfTransactions'],bins=30)"
   ]
  },
  {
   "cell_type": "code",
   "execution_count": null,
   "metadata": {},
   "outputs": [],
   "source": [
    "sns.displot(Customers['DSLastPurchaseDate'],bins=30)"
   ]
  },
  {
   "cell_type": "markdown",
   "metadata": {},
   "source": [
    "## K-means Clustering"
   ]
  },
  {
   "cell_type": "code",
   "execution_count": 189,
   "metadata": {},
   "outputs": [],
   "source": [
    "from sklearn.cluster import KMeans"
   ]
  },
  {
   "cell_type": "code",
   "execution_count": 193,
   "metadata": {},
   "outputs": [
    {
     "data": {
      "text/plain": [
       "array([2, 1, 2, ..., 0, 0, 0], dtype=int32)"
      ]
     },
     "execution_count": 193,
     "metadata": {},
     "output_type": "execute_result"
    }
   ],
   "source": [
    "X_Amount = Customers[['tran_amount', 'DSLastPurchaseDate', 'NumberOfTransactions']]\n",
    "model = KMeans(n_clusters=3)\n",
    "model.fit(X_Amount)\n",
    "CustomerCategory = model.predict(X_Amount)\n",
    "CustomerCategory\n"
   ]
  },
  {
   "cell_type": "code",
   "execution_count": 199,
   "metadata": {},
   "outputs": [
    {
     "data": {
      "text/html": [
       "<div>\n",
       "<style scoped>\n",
       "    .dataframe tbody tr th:only-of-type {\n",
       "        vertical-align: middle;\n",
       "    }\n",
       "\n",
       "    .dataframe tbody tr th {\n",
       "        vertical-align: top;\n",
       "    }\n",
       "\n",
       "    .dataframe thead th {\n",
       "        text-align: right;\n",
       "    }\n",
       "</style>\n",
       "<table border=\"1\" class=\"dataframe\">\n",
       "  <thead>\n",
       "    <tr style=\"text-align: right;\">\n",
       "      <th></th>\n",
       "      <th>tran_amount</th>\n",
       "      <th>Mean</th>\n",
       "      <th>DSLastPurchaseDate</th>\n",
       "      <th>NumberOfTransactions</th>\n",
       "      <th>Category</th>\n",
       "      <th>id</th>\n",
       "    </tr>\n",
       "    <tr>\n",
       "      <th>customer_id</th>\n",
       "      <th></th>\n",
       "      <th></th>\n",
       "      <th></th>\n",
       "      <th></th>\n",
       "      <th></th>\n",
       "      <th></th>\n",
       "    </tr>\n",
       "  </thead>\n",
       "  <tbody>\n",
       "    <tr>\n",
       "      <th>CS1112</th>\n",
       "      <td>1012</td>\n",
       "      <td>67.466667</td>\n",
       "      <td>61.0</td>\n",
       "      <td>15</td>\n",
       "      <td>2</td>\n",
       "      <td>0</td>\n",
       "    </tr>\n",
       "    <tr>\n",
       "      <th>CS1113</th>\n",
       "      <td>1490</td>\n",
       "      <td>74.500000</td>\n",
       "      <td>35.0</td>\n",
       "      <td>20</td>\n",
       "      <td>1</td>\n",
       "      <td>1</td>\n",
       "    </tr>\n",
       "    <tr>\n",
       "      <th>CS1114</th>\n",
       "      <td>1432</td>\n",
       "      <td>75.368421</td>\n",
       "      <td>32.0</td>\n",
       "      <td>19</td>\n",
       "      <td>2</td>\n",
       "      <td>2</td>\n",
       "    </tr>\n",
       "    <tr>\n",
       "      <th>CS1115</th>\n",
       "      <td>1659</td>\n",
       "      <td>75.409091</td>\n",
       "      <td>11.0</td>\n",
       "      <td>22</td>\n",
       "      <td>1</td>\n",
       "      <td>3</td>\n",
       "    </tr>\n",
       "    <tr>\n",
       "      <th>CS1116</th>\n",
       "      <td>857</td>\n",
       "      <td>65.923077</td>\n",
       "      <td>203.0</td>\n",
       "      <td>13</td>\n",
       "      <td>0</td>\n",
       "      <td>4</td>\n",
       "    </tr>\n",
       "  </tbody>\n",
       "</table>\n",
       "</div>"
      ],
      "text/plain": [
       "             tran_amount       Mean  DSLastPurchaseDate  NumberOfTransactions  \\\n",
       "customer_id                                                                     \n",
       "CS1112              1012  67.466667                61.0                    15   \n",
       "CS1113              1490  74.500000                35.0                    20   \n",
       "CS1114              1432  75.368421                32.0                    19   \n",
       "CS1115              1659  75.409091                11.0                    22   \n",
       "CS1116               857  65.923077               203.0                    13   \n",
       "\n",
       "             Category  id  \n",
       "customer_id                \n",
       "CS1112              2   0  \n",
       "CS1113              1   1  \n",
       "CS1114              2   2  \n",
       "CS1115              1   3  \n",
       "CS1116              0   4  "
      ]
     },
     "execution_count": 199,
     "metadata": {},
     "output_type": "execute_result"
    }
   ],
   "source": [
    "model.cluster_centers_\n",
    "Customers['Category'] = CustomerCategory.tolist()\n",
    "Customers['id'] = np.arange(0,len(Customers)).tolist()\n",
    "Customers.head()\n"
   ]
  },
  {
   "cell_type": "code",
   "execution_count": 200,
   "metadata": {},
   "outputs": [
    {
     "data": {
      "text/plain": [
       "<AxesSubplot:xlabel='NumberOfTransactions', ylabel='tran_amount'>"
      ]
     },
     "execution_count": 200,
     "metadata": {},
     "output_type": "execute_result"
    },
    {
     "data": {
      "image/png": "[encoded data removed]",
      "text/plain": [
       "<Figure size 432x288 with 1 Axes>"
      ]
     },
     "metadata": {
      "needs_background": "light"
     },
     "output_type": "display_data"
    }
   ],
   "source": [
    "sns.scatterplot(x=Customers['NumberOfTransactions'],y=Customers['tran_amount'],data=Customers,hue='Category',palette='rocket')"
   ]
  },
  {
   "cell_type": "code",
   "execution_count": 262,
   "metadata": {},
   "outputs": [
    {
     "data": {
      "text/html": [
       "<div>\n",
       "<style scoped>\n",
       "    .dataframe tbody tr th:only-of-type {\n",
       "        vertical-align: middle;\n",
       "    }\n",
       "\n",
       "    .dataframe tbody tr th {\n",
       "        vertical-align: top;\n",
       "    }\n",
       "\n",
       "    .dataframe thead th {\n",
       "        text-align: right;\n",
       "    }\n",
       "</style>\n",
       "<table border=\"1\" class=\"dataframe\">\n",
       "  <thead>\n",
       "    <tr style=\"text-align: right;\">\n",
       "      <th></th>\n",
       "      <th>tran_amount</th>\n",
       "      <th>Mean</th>\n",
       "      <th>DSLastPurchaseDate</th>\n",
       "      <th>NumberOfTransactions</th>\n",
       "      <th>Category</th>\n",
       "      <th>id</th>\n",
       "      <th>Label</th>\n",
       "    </tr>\n",
       "    <tr>\n",
       "      <th>customer_id</th>\n",
       "      <th></th>\n",
       "      <th></th>\n",
       "      <th></th>\n",
       "      <th></th>\n",
       "      <th></th>\n",
       "      <th></th>\n",
       "      <th></th>\n",
       "    </tr>\n",
       "  </thead>\n",
       "  <tbody>\n",
       "    <tr>\n",
       "      <th>CS1112</th>\n",
       "      <td>1012</td>\n",
       "      <td>67.466667</td>\n",
       "      <td>61.0</td>\n",
       "      <td>15</td>\n",
       "      <td>2</td>\n",
       "      <td>0</td>\n",
       "      <td>Low Frequency and Value</td>\n",
       "    </tr>\n",
       "    <tr>\n",
       "      <th>CS1113</th>\n",
       "      <td>1490</td>\n",
       "      <td>74.500000</td>\n",
       "      <td>35.0</td>\n",
       "      <td>20</td>\n",
       "      <td>1</td>\n",
       "      <td>1</td>\n",
       "      <td>High Frequency and Value</td>\n",
       "    </tr>\n",
       "    <tr>\n",
       "      <th>CS1114</th>\n",
       "      <td>1432</td>\n",
       "      <td>75.368421</td>\n",
       "      <td>32.0</td>\n",
       "      <td>19</td>\n",
       "      <td>2</td>\n",
       "      <td>2</td>\n",
       "      <td>Low Frequency and Value</td>\n",
       "    </tr>\n",
       "    <tr>\n",
       "      <th>CS1115</th>\n",
       "      <td>1659</td>\n",
       "      <td>75.409091</td>\n",
       "      <td>11.0</td>\n",
       "      <td>22</td>\n",
       "      <td>1</td>\n",
       "      <td>3</td>\n",
       "      <td>High Frequency and Value</td>\n",
       "    </tr>\n",
       "    <tr>\n",
       "      <th>CS1116</th>\n",
       "      <td>857</td>\n",
       "      <td>65.923077</td>\n",
       "      <td>203.0</td>\n",
       "      <td>13</td>\n",
       "      <td>0</td>\n",
       "      <td>4</td>\n",
       "      <td>Medium Frequency and Value</td>\n",
       "    </tr>\n",
       "  </tbody>\n",
       "</table>\n",
       "</div>"
      ],
      "text/plain": [
       "             tran_amount       Mean  DSLastPurchaseDate  NumberOfTransactions  \\\n",
       "customer_id                                                                     \n",
       "CS1112              1012  67.466667                61.0                    15   \n",
       "CS1113              1490  74.500000                35.0                    20   \n",
       "CS1114              1432  75.368421                32.0                    19   \n",
       "CS1115              1659  75.409091                11.0                    22   \n",
       "CS1116               857  65.923077               203.0                    13   \n",
       "\n",
       "             Category  id                       Label  \n",
       "customer_id                                            \n",
       "CS1112              2   0     Low Frequency and Value  \n",
       "CS1113              1   1    High Frequency and Value  \n",
       "CS1114              2   2     Low Frequency and Value  \n",
       "CS1115              1   3    High Frequency and Value  \n",
       "CS1116              0   4  Medium Frequency and Value  "
      ]
     },
     "execution_count": 262,
     "metadata": {},
     "output_type": "execute_result"
    }
   ],
   "source": [
    "test=Customers.copy()\n",
    "\n",
    "test.loc[test['Category'] == 1,'Label'] = 'High Frequency and Value'\n",
    "test.loc[test['Category'] == 2,'Label'] = 'Low Frequency and Value'\n",
    "test.loc[test['Category'] == 0,'Label'] = 'Medium Frequency and Value'\n",
    "test.head()\n"
   ]
  },
  {
   "cell_type": "code",
   "execution_count": 263,
   "metadata": {},
   "outputs": [
    {
     "name": "stderr",
     "output_type": "stream",
     "text": [
      "/home/marcos/anaconda3/lib/python3.8/site-packages/seaborn/_decorators.py:36: FutureWarning: Pass the following variable as a keyword arg: x. From version 0.12, the only valid positional argument will be `data`, and passing other arguments without an explicit keyword will result in an error or misinterpretation.\n",
      "  warnings.warn(\n"
     ]
    },
    {
     "data": {
      "text/plain": [
       "<matplotlib.legend.Legend at 0x7efd44818f40>"
      ]
     },
     "execution_count": 263,
     "metadata": {},
     "output_type": "execute_result"
    },
    {
     "data": {
      "image/png": "[encoded data removed]",
      "text/plain": [
       "<Figure size 432x288 with 1 Axes>"
      ]
     },
     "metadata": {
      "needs_background": "light"
     },
     "output_type": "display_data"
    }
   ],
   "source": [
    "sns.countplot(test['Category'],data=test,hue='Label')\n",
    "plt.legend(bbox_to_anchor=(1.01, 1),borderaxespad=0)"
   ]
  },
  {
   "cell_type": "code",
   "execution_count": 264,
   "metadata": {},
   "outputs": [
    {
     "data": {
      "text/html": [
       "<div>\n",
       "<style scoped>\n",
       "    .dataframe tbody tr th:only-of-type {\n",
       "        vertical-align: middle;\n",
       "    }\n",
       "\n",
       "    .dataframe tbody tr th {\n",
       "        vertical-align: top;\n",
       "    }\n",
       "\n",
       "    .dataframe thead th {\n",
       "        text-align: right;\n",
       "    }\n",
       "</style>\n",
       "<table border=\"1\" class=\"dataframe\">\n",
       "  <thead>\n",
       "    <tr style=\"text-align: right;\">\n",
       "      <th></th>\n",
       "      <th>tran_amount</th>\n",
       "      <th>Mean</th>\n",
       "      <th>DSLastPurchaseDate</th>\n",
       "      <th>NumberOfTransactions</th>\n",
       "      <th>Category</th>\n",
       "      <th>id</th>\n",
       "    </tr>\n",
       "  </thead>\n",
       "  <tbody>\n",
       "    <tr>\n",
       "      <th>0.25</th>\n",
       "      <td>1565.0</td>\n",
       "      <td>68.478261</td>\n",
       "      <td>16.0</td>\n",
       "      <td>22.0</td>\n",
       "      <td>1.0</td>\n",
       "      <td>1234.50</td>\n",
       "    </tr>\n",
       "    <tr>\n",
       "      <th>0.50</th>\n",
       "      <td>1676.0</td>\n",
       "      <td>71.327381</td>\n",
       "      <td>39.0</td>\n",
       "      <td>24.0</td>\n",
       "      <td>1.0</td>\n",
       "      <td>2426.00</td>\n",
       "    </tr>\n",
       "    <tr>\n",
       "      <th>0.75</th>\n",
       "      <td>1830.0</td>\n",
       "      <td>74.129058</td>\n",
       "      <td>79.0</td>\n",
       "      <td>26.0</td>\n",
       "      <td>1.0</td>\n",
       "      <td>3750.75</td>\n",
       "    </tr>\n",
       "    <tr>\n",
       "      <th>1.00</th>\n",
       "      <td>2933.0</td>\n",
       "      <td>85.631579</td>\n",
       "      <td>392.0</td>\n",
       "      <td>39.0</td>\n",
       "      <td>1.0</td>\n",
       "      <td>4999.00</td>\n",
       "    </tr>\n",
       "  </tbody>\n",
       "</table>\n",
       "</div>"
      ],
      "text/plain": [
       "      tran_amount       Mean  DSLastPurchaseDate  NumberOfTransactions  \\\n",
       "0.25       1565.0  68.478261                16.0                  22.0   \n",
       "0.50       1676.0  71.327381                39.0                  24.0   \n",
       "0.75       1830.0  74.129058                79.0                  26.0   \n",
       "1.00       2933.0  85.631579               392.0                  39.0   \n",
       "\n",
       "      Category       id  \n",
       "0.25       1.0  1234.50  \n",
       "0.50       1.0  2426.00  \n",
       "0.75       1.0  3750.75  \n",
       "1.00       1.0  4999.00  "
      ]
     },
     "execution_count": 264,
     "metadata": {},
     "output_type": "execute_result"
    }
   ],
   "source": [
    "HFV_df = test.loc[test['Category'] == 1]\n",
    "HFV_df.quantile([.25, .5, .75, 1])"
   ]
  },
  {
   "cell_type": "code",
   "execution_count": 265,
   "metadata": {},
   "outputs": [],
   "source": [
    "test.loc[test['NumberOfTransactions'] >= 39 ,'TransactionsScore'] = 4\n",
    "test.loc[(test['NumberOfTransactions'] >= 26) & (test['NumberOfTransactions'] < 39),'TransactionsScore'] = 3\n",
    "test.loc[(test['NumberOfTransactions'] >= 24) & (test['NumberOfTransactions'] < 26),'TransactionsScore'] = 2\n",
    "test.loc[test['NumberOfTransactions'] < 24,'TransactionsScore'] = 1\n",
    "\n",
    "test.loc[test['DSLastPurchaseDate'] <= 16 ,'DaysScore'] = 4\n",
    "test.loc[(test['DSLastPurchaseDate'] <= 39) & (test['DSLastPurchaseDate'] > 16),'DaysScore'] = 3\n",
    "test.loc[(test['DSLastPurchaseDate'] <= 79) & (test['DSLastPurchaseDate'] > 39),'DaysScore'] = 2\n",
    "test.loc[test['DSLastPurchaseDate'] > 79,'DaysScore'] = 1\n",
    "\n",
    "test.loc[test['tran_amount'] >=1830 ,'AmountScore'] = 4\n",
    "test.loc[(test['tran_amount'] >= 1676) & (test['tran_amount'] < 1830),'AmountScore'] = 3\n",
    "test.loc[(test['tran_amount'] >= 1565) & (test['tran_amount'] < 1676),'AmountScore'] = 2\n",
    "test.loc[test['tran_amount'] < 1565,'AmountScore'] = 1"
   ]
  },
  {
   "cell_type": "code",
   "execution_count": 270,
   "metadata": {},
   "outputs": [
    {
     "data": {
      "text/html": [
       "<div>\n",
       "<style scoped>\n",
       "    .dataframe tbody tr th:only-of-type {\n",
       "        vertical-align: middle;\n",
       "    }\n",
       "\n",
       "    .dataframe tbody tr th {\n",
       "        vertical-align: top;\n",
       "    }\n",
       "\n",
       "    .dataframe thead th {\n",
       "        text-align: right;\n",
       "    }\n",
       "</style>\n",
       "<table border=\"1\" class=\"dataframe\">\n",
       "  <thead>\n",
       "    <tr style=\"text-align: right;\">\n",
       "      <th></th>\n",
       "      <th>id</th>\n",
       "      <th>Label</th>\n",
       "      <th>TransactionsScore</th>\n",
       "      <th>DaysScore</th>\n",
       "      <th>AmountScore</th>\n",
       "      <th>OvhScore</th>\n",
       "    </tr>\n",
       "    <tr>\n",
       "      <th>customer_id</th>\n",
       "      <th></th>\n",
       "      <th></th>\n",
       "      <th></th>\n",
       "      <th></th>\n",
       "      <th></th>\n",
       "      <th></th>\n",
       "    </tr>\n",
       "  </thead>\n",
       "  <tbody>\n",
       "    <tr>\n",
       "      <th>CS1112</th>\n",
       "      <td>0</td>\n",
       "      <td>Low Frequency and Value</td>\n",
       "      <td>1.0</td>\n",
       "      <td>2.0</td>\n",
       "      <td>1.0</td>\n",
       "      <td>1.333333</td>\n",
       "    </tr>\n",
       "    <tr>\n",
       "      <th>CS1113</th>\n",
       "      <td>1</td>\n",
       "      <td>High Frequency and Value</td>\n",
       "      <td>1.0</td>\n",
       "      <td>3.0</td>\n",
       "      <td>1.0</td>\n",
       "      <td>1.666667</td>\n",
       "    </tr>\n",
       "    <tr>\n",
       "      <th>CS1114</th>\n",
       "      <td>2</td>\n",
       "      <td>Low Frequency and Value</td>\n",
       "      <td>1.0</td>\n",
       "      <td>3.0</td>\n",
       "      <td>1.0</td>\n",
       "      <td>1.666667</td>\n",
       "    </tr>\n",
       "    <tr>\n",
       "      <th>CS1115</th>\n",
       "      <td>3</td>\n",
       "      <td>High Frequency and Value</td>\n",
       "      <td>1.0</td>\n",
       "      <td>4.0</td>\n",
       "      <td>2.0</td>\n",
       "      <td>2.333333</td>\n",
       "    </tr>\n",
       "    <tr>\n",
       "      <th>CS1116</th>\n",
       "      <td>4</td>\n",
       "      <td>Medium Frequency and Value</td>\n",
       "      <td>1.0</td>\n",
       "      <td>1.0</td>\n",
       "      <td>1.0</td>\n",
       "      <td>1.000000</td>\n",
       "    </tr>\n",
       "  </tbody>\n",
       "</table>\n",
       "</div>"
      ],
      "text/plain": [
       "             id                       Label  TransactionsScore  DaysScore  \\\n",
       "customer_id                                                                 \n",
       "CS1112        0     Low Frequency and Value                1.0        2.0   \n",
       "CS1113        1    High Frequency and Value                1.0        3.0   \n",
       "CS1114        2     Low Frequency and Value                1.0        3.0   \n",
       "CS1115        3    High Frequency and Value                1.0        4.0   \n",
       "CS1116        4  Medium Frequency and Value                1.0        1.0   \n",
       "\n",
       "             AmountScore  OvhScore  \n",
       "customer_id                         \n",
       "CS1112               1.0  1.333333  \n",
       "CS1113               1.0  1.666667  \n",
       "CS1114               1.0  1.666667  \n",
       "CS1115               2.0  2.333333  \n",
       "CS1116               1.0  1.000000  "
      ]
     },
     "execution_count": 270,
     "metadata": {},
     "output_type": "execute_result"
    }
   ],
   "source": [
    "test['OvhScore']=pd.DataFrame((test['TransactionsScore'] + test['DaysScore'] + test['AmountScore'])/3)\n",
    "test.drop(['tran_amount','Mean','DSLastPurchaseDate','NumberOfTransactions','Category'],axis=1,inplace=True)\n"
   ]
  },
  {
   "cell_type": "markdown",
   "metadata": {},
   "source": [
    "## Export Dataframe to .db file"
   ]
  },
  {
   "cell_type": "code",
   "execution_count": 271,
   "metadata": {},
   "outputs": [],
   "source": [
    "import sqlite3"
   ]
  },
  {
   "cell_type": "code",
   "execution_count": 275,
   "metadata": {},
   "outputs": [],
   "source": [
    "conn = sqlite3.connect('CustomersDB.db')\n",
    "c = conn.cursor()\n",
    "c.execute('Create Table Customers (CustomerID,id,Label,TransactionScore,DaysScore,AmountScore,OvhScore)')\n",
    "conn.commit()"
   ]
  },
  {
   "cell_type": "code",
   "execution_count": 276,
   "metadata": {},
   "outputs": [],
   "source": [
    "test.to_sql('Customers', conn, if_exists='replace', index = True)"
   ]
  },
  {
   "cell_type": "code",
   "execution_count": 285,
   "metadata": {},
   "outputs": [],
   "source": [
    "test.to_csv ('Customers.csv', index = False, header=True)"
   ]
  }
 ],
 "metadata": {
  "kernelspec": {
   "display_name": "Python 3",
   "language": "python",
   "name": "python3"
  },
  "language_info": {
   "codemirror_mode": {
    "name": "ipython",
    "version": 3
   },
   "file_extension": ".py",
   "mimetype": "text/x-python",
   "name": "python",
   "nbconvert_exporter": "python",
   "pygments_lexer": "ipython3",
   "version": "3.8.5"
  }
 },
 "nbformat": 4,
 "nbformat_minor": 4
}
